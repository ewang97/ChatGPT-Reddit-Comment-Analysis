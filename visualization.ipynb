{
 "cells": [
  {
   "cell_type": "code",
   "execution_count": 51,
   "metadata": {},
   "outputs": [],
   "source": [
    "\n",
    "#pip install nltk"
   ]
  },
  {
   "cell_type": "code",
   "execution_count": 52,
   "metadata": {},
   "outputs": [
    {
     "name": "stderr",
     "output_type": "stream",
     "text": [
      "[nltk_data] Downloading package wordnet to\n",
      "[nltk_data]     C:\\Users\\erice\\AppData\\Roaming\\nltk_data...\n",
      "[nltk_data]   Package wordnet is already up-to-date!\n"
     ]
    },
    {
     "data": {
      "text/plain": [
       "True"
      ]
     },
     "execution_count": 52,
     "metadata": {},
     "output_type": "execute_result"
    },
    {
     "name": "stderr",
     "output_type": "stream",
     "text": [
      "[nltk_data] Downloading package stopwords to\n",
      "[nltk_data]     C:\\Users\\erice\\AppData\\Roaming\\nltk_data...\n",
      "[nltk_data]   Package stopwords is already up-to-date!\n"
     ]
    },
    {
     "data": {
      "text/plain": [
       "True"
      ]
     },
     "execution_count": 52,
     "metadata": {},
     "output_type": "execute_result"
    }
   ],
   "source": [
    "import os\n",
    "\n",
    "import numpy as np # linear algebra\n",
    "import pandas as pd # data processing, CSV file I/O (e.g. pd.read_csv)\n",
    "import nltk\n",
    "nltk.download ('wordnet')\n",
    "from nltk import word_tokenize\n",
    "nltk.download('stopwords')\n",
    "from nltk.corpus import stopwords\n",
    "from nltk.stem import SnowballStemmer\n",
    "from nltk.stem import WordNetLemmatizer\n",
    "import matplotlib as mpl\n",
    "import matplotlib.pyplot as plt\n",
    "import seaborn as sns\n",
    "\n",
    "from sklearn.feature_extraction.text import TfidfVectorizer\n",
    "from sklearn.cluster import KMeans\n",
    "from sklearn.metrics import adjusted_rand_score\n",
    "from sklearn.decomposition import PCA\n",
    "\n",
    "import re\n"
   ]
  },
  {
   "cell_type": "code",
   "execution_count": 53,
   "metadata": {},
   "outputs": [
    {
     "data": {
      "text/html": [
       "<div>\n",
       "<style scoped>\n",
       "    .dataframe tbody tr th:only-of-type {\n",
       "        vertical-align: middle;\n",
       "    }\n",
       "\n",
       "    .dataframe tbody tr th {\n",
       "        vertical-align: top;\n",
       "    }\n",
       "\n",
       "    .dataframe thead th {\n",
       "        text-align: right;\n",
       "    }\n",
       "</style>\n",
       "<table border=\"1\" class=\"dataframe\">\n",
       "  <thead>\n",
       "    <tr style=\"text-align: right;\">\n",
       "      <th></th>\n",
       "      <th>Unnamed: 0</th>\n",
       "      <th>comment_id</th>\n",
       "      <th>comment_parent_id</th>\n",
       "      <th>comment_body</th>\n",
       "      <th>subreddit</th>\n",
       "    </tr>\n",
       "  </thead>\n",
       "  <tbody>\n",
       "    <tr>\n",
       "      <th>0</th>\n",
       "      <td>0</td>\n",
       "      <td>iztdxuh</td>\n",
       "      <td>t3_zj2aeu</td>\n",
       "      <td>I've been shocked for days now, I don't need c...</td>\n",
       "      <td>r/ChatGPT</td>\n",
       "    </tr>\n",
       "    <tr>\n",
       "      <th>1</th>\n",
       "      <td>1</td>\n",
       "      <td>iztn0q0</td>\n",
       "      <td>t3_zj2aeu</td>\n",
       "      <td>\\n\\nI am so angry right now. I just wasted my...</td>\n",
       "      <td>r/ChatGPT</td>\n",
       "    </tr>\n",
       "    <tr>\n",
       "      <th>2</th>\n",
       "      <td>2</td>\n",
       "      <td>izudrph</td>\n",
       "      <td>t3_zj2aeu</td>\n",
       "      <td>chatgpt karma whoring is here folks! just when...</td>\n",
       "      <td>r/ChatGPT</td>\n",
       "    </tr>\n",
       "    <tr>\n",
       "      <th>3</th>\n",
       "      <td>3</td>\n",
       "      <td>iztfhtb</td>\n",
       "      <td>t3_zj2aeu</td>\n",
       "      <td>Worked on me, ngl.</td>\n",
       "      <td>r/ChatGPT</td>\n",
       "    </tr>\n",
       "    <tr>\n",
       "      <th>4</th>\n",
       "      <td>4</td>\n",
       "      <td>izu2as9</td>\n",
       "      <td>t3_zj2aeu</td>\n",
       "      <td>Certified 10/10, must-see moment. It really di...</td>\n",
       "      <td>r/ChatGPT</td>\n",
       "    </tr>\n",
       "  </tbody>\n",
       "</table>\n",
       "</div>"
      ],
      "text/plain": [
       "  Unnamed: 0 comment_id comment_parent_id  \\\n",
       "0          0    iztdxuh         t3_zj2aeu   \n",
       "1          1    iztn0q0         t3_zj2aeu   \n",
       "2          2    izudrph         t3_zj2aeu   \n",
       "3          3    iztfhtb         t3_zj2aeu   \n",
       "4          4    izu2as9         t3_zj2aeu   \n",
       "\n",
       "                                        comment_body  subreddit  \n",
       "0  I've been shocked for days now, I don't need c...  r/ChatGPT  \n",
       "1   \\n\\nI am so angry right now. I just wasted my...  r/ChatGPT  \n",
       "2  chatgpt karma whoring is here folks! just when...  r/ChatGPT  \n",
       "3                                 Worked on me, ngl.  r/ChatGPT  \n",
       "4  Certified 10/10, must-see moment. It really di...  r/ChatGPT  "
      ]
     },
     "execution_count": 53,
     "metadata": {},
     "output_type": "execute_result"
    }
   ],
   "source": [
    "from IPython.core.interactiveshell import InteractiveShell\n",
    "InteractiveShell.ast_node_interactivity = \"all\"\n",
    "\n",
    "cwd = os.getcwd()\n",
    "df = pd.read_csv(cwd + '/raw_data/chatgpt-reddit-comments.csv')\n",
    "df.head()"
   ]
  },
  {
   "cell_type": "code",
   "execution_count": 54,
   "metadata": {},
   "outputs": [
    {
     "data": {
      "text/plain": [
       "<AxesSubplot:>"
      ]
     },
     "execution_count": 54,
     "metadata": {},
     "output_type": "execute_result"
    },
    {
     "data": {
      "text/plain": [
       "Text(0.5, 0, 'Sub-Reddit')"
      ]
     },
     "execution_count": 54,
     "metadata": {},
     "output_type": "execute_result"
    },
    {
     "data": {
      "text/plain": [
       "Text(0, 0.5, 'Number of Comments')"
      ]
     },
     "execution_count": 54,
     "metadata": {},
     "output_type": "execute_result"
    },
    {
     "data": {
      "text/plain": [
       "Text(0.5, 1.0, 'Sub-Reddit Distribution')"
      ]
     },
     "execution_count": 54,
     "metadata": {},
     "output_type": "execute_result"
    },
    {
     "data": {
      "image/png": "[encoded data removed]",
      "text/plain": [
       "<Figure size 720x360 with 1 Axes>"
      ]
     },
     "metadata": {
      "needs_background": "light"
     },
     "output_type": "display_data"
    }
   ],
   "source": [
    "df['subreddit'].value_counts().sort_values(ascending = False).plot(kind='bar', figsize=(10,5), width=0.2)\n",
    "\n",
    "plt.xlabel(\"Sub-Reddit\", fontsize=12)\n",
    "plt.ylabel(\"Number of Comments\", fontsize=12)\n",
    "plt.title(\"Sub-Reddit Distribution\", fontsize=18,pad=16, fontweight=\"bold\")\n",
    "\n",
    "plt.show()"
   ]
  },
  {
   "cell_type": "code",
   "execution_count": 55,
   "metadata": {},
   "outputs": [
    {
     "data": {
      "text/plain": [
       "Unnamed: 0  comment_id  comment_parent_id  comment_body  subreddit\n",
       "False       False       False              False         False        52412\n",
       "dtype: int64"
      ]
     },
     "execution_count": 55,
     "metadata": {},
     "output_type": "execute_result"
    },
    {
     "data": {
      "text/html": [
       "<div>\n",
       "<style scoped>\n",
       "    .dataframe tbody tr th:only-of-type {\n",
       "        vertical-align: middle;\n",
       "    }\n",
       "\n",
       "    .dataframe tbody tr th {\n",
       "        vertical-align: top;\n",
       "    }\n",
       "\n",
       "    .dataframe thead th {\n",
       "        text-align: right;\n",
       "    }\n",
       "</style>\n",
       "<table border=\"1\" class=\"dataframe\">\n",
       "  <thead>\n",
       "    <tr style=\"text-align: right;\">\n",
       "      <th></th>\n",
       "      <th>Unnamed: 0</th>\n",
       "      <th>comment_id</th>\n",
       "      <th>comment_parent_id</th>\n",
       "      <th>comment_body</th>\n",
       "      <th>subreddit</th>\n",
       "    </tr>\n",
       "  </thead>\n",
       "  <tbody>\n",
       "    <tr>\n",
       "      <th>0</th>\n",
       "      <td>0</td>\n",
       "      <td>iztdxuh</td>\n",
       "      <td>t3_zj2aeu</td>\n",
       "      <td>I've been shocked for days now, I don't need c...</td>\n",
       "      <td>r/ChatGPT</td>\n",
       "    </tr>\n",
       "    <tr>\n",
       "      <th>1</th>\n",
       "      <td>1</td>\n",
       "      <td>iztn0q0</td>\n",
       "      <td>t3_zj2aeu</td>\n",
       "      <td>\\n\\nI am so angry right now. I just wasted my...</td>\n",
       "      <td>r/ChatGPT</td>\n",
       "    </tr>\n",
       "    <tr>\n",
       "      <th>2</th>\n",
       "      <td>2</td>\n",
       "      <td>izudrph</td>\n",
       "      <td>t3_zj2aeu</td>\n",
       "      <td>chatgpt karma whoring is here folks! just when...</td>\n",
       "      <td>r/ChatGPT</td>\n",
       "    </tr>\n",
       "    <tr>\n",
       "      <th>3</th>\n",
       "      <td>3</td>\n",
       "      <td>iztfhtb</td>\n",
       "      <td>t3_zj2aeu</td>\n",
       "      <td>Worked on me, ngl.</td>\n",
       "      <td>r/ChatGPT</td>\n",
       "    </tr>\n",
       "    <tr>\n",
       "      <th>4</th>\n",
       "      <td>4</td>\n",
       "      <td>izu2as9</td>\n",
       "      <td>t3_zj2aeu</td>\n",
       "      <td>Certified 10/10, must-see moment. It really di...</td>\n",
       "      <td>r/ChatGPT</td>\n",
       "    </tr>\n",
       "  </tbody>\n",
       "</table>\n",
       "</div>"
      ],
      "text/plain": [
       "  Unnamed: 0 comment_id comment_parent_id  \\\n",
       "0          0    iztdxuh         t3_zj2aeu   \n",
       "1          1    iztn0q0         t3_zj2aeu   \n",
       "2          2    izudrph         t3_zj2aeu   \n",
       "3          3    iztfhtb         t3_zj2aeu   \n",
       "4          4    izu2as9         t3_zj2aeu   \n",
       "\n",
       "                                        comment_body  subreddit  \n",
       "0  I've been shocked for days now, I don't need c...  r/ChatGPT  \n",
       "1   \\n\\nI am so angry right now. I just wasted my...  r/ChatGPT  \n",
       "2  chatgpt karma whoring is here folks! just when...  r/ChatGPT  \n",
       "3                                 Worked on me, ngl.  r/ChatGPT  \n",
       "4  Certified 10/10, must-see moment. It really di...  r/ChatGPT  "
      ]
     },
     "execution_count": 55,
     "metadata": {},
     "output_type": "execute_result"
    }
   ],
   "source": [
    "#Check for/Remove NULL values\n",
    "df.dropna(inplace=True)\n",
    "df.isnull().value_counts()\n",
    "df.head()"
   ]
  },
  {
   "cell_type": "code",
   "execution_count": 56,
   "metadata": {},
   "outputs": [],
   "source": [
    "stop_words = set(stopwords.words('english'))\n",
    "#stemmer = SnowballStemmer('english')\n",
    "lemmatizer = WordNetLemmatizer()\n",
    "def clean_comments(comment):\n",
    "    #Normalize text\n",
    "    comment = comment.lower()\n",
    "\n",
    "    #Remove special characters/URLS and '@' tags and non numbers/letters\n",
    "    comment = re.sub(r\"(@\\[A-Za-z0-9]+)|([^A-Za-z])|(\\w+:\\/\\/\\S+)|^rt|http.+?\", \" \", comment)\n",
    "\n",
    "    #Remove linebreaks\n",
    "    comment = re.sub(r\"\\n\", \" \",comment)\n",
    "    \n",
    "    #Remove non-words/single characters\n",
    "    comment = re.sub(r\"(^| ).(( ).)*( |$)\", \" \", comment)\n",
    "\n",
    "    #Remove stopwords and lemmatize\n",
    "    word_tokens = word_tokenize(comment)\n",
    "    clean_token_list = []\n",
    "    for word_token in word_tokens:\n",
    "        if word_token not in stop_words:\n",
    "            clean_token_list.append(lemmatizer.lemmatize(word_token,pos = 'v'))\n",
    "    \n",
    "    clean_comment = \" \".join(clean_token_list)\n",
    "    \n",
    "    return clean_comment\n"
   ]
  },
  {
   "cell_type": "code",
   "execution_count": 57,
   "metadata": {},
   "outputs": [
    {
     "data": {
      "text/html": [
       "<div>\n",
       "<style scoped>\n",
       "    .dataframe tbody tr th:only-of-type {\n",
       "        vertical-align: middle;\n",
       "    }\n",
       "\n",
       "    .dataframe tbody tr th {\n",
       "        vertical-align: top;\n",
       "    }\n",
       "\n",
       "    .dataframe thead th {\n",
       "        text-align: right;\n",
       "    }\n",
       "</style>\n",
       "<table border=\"1\" class=\"dataframe\">\n",
       "  <thead>\n",
       "    <tr style=\"text-align: right;\">\n",
       "      <th></th>\n",
       "      <th>Unnamed: 0.2</th>\n",
       "      <th>Unnamed: 0.1</th>\n",
       "      <th>Unnamed: 0</th>\n",
       "      <th>comment_id</th>\n",
       "      <th>comment_parent_id</th>\n",
       "      <th>comment_body</th>\n",
       "      <th>subreddit</th>\n",
       "      <th>cluster</th>\n",
       "    </tr>\n",
       "  </thead>\n",
       "  <tbody>\n",
       "    <tr>\n",
       "      <th>0</th>\n",
       "      <td>0</td>\n",
       "      <td>0</td>\n",
       "      <td>0</td>\n",
       "      <td>iztdxuh</td>\n",
       "      <td>t3_zj2aeu</td>\n",
       "      <td>shock days need clickbait</td>\n",
       "      <td>r/ChatGPT</td>\n",
       "      <td>2</td>\n",
       "    </tr>\n",
       "    <tr>\n",
       "      <th>1</th>\n",
       "      <td>1</td>\n",
       "      <td>1</td>\n",
       "      <td>1</td>\n",
       "      <td>iztn0q0</td>\n",
       "      <td>t3_zj2aeu</td>\n",
       "      <td>angry right waste time read post sub clickbait...</td>\n",
       "      <td>r/ChatGPT</td>\n",
       "      <td>0</td>\n",
       "    </tr>\n",
       "    <tr>\n",
       "      <th>2</th>\n",
       "      <td>2</td>\n",
       "      <td>2</td>\n",
       "      <td>2</td>\n",
       "      <td>izudrph</td>\n",
       "      <td>t3_zj2aeu</td>\n",
       "      <td>chatgpt karma whore folks think stream think b...</td>\n",
       "      <td>r/ChatGPT</td>\n",
       "      <td>0</td>\n",
       "    </tr>\n",
       "    <tr>\n",
       "      <th>3</th>\n",
       "      <td>3</td>\n",
       "      <td>3</td>\n",
       "      <td>3</td>\n",
       "      <td>iztfhtb</td>\n",
       "      <td>t3_zj2aeu</td>\n",
       "      <td>work ngl</td>\n",
       "      <td>r/ChatGPT</td>\n",
       "      <td>0</td>\n",
       "    </tr>\n",
       "    <tr>\n",
       "      <th>4</th>\n",
       "      <td>4</td>\n",
       "      <td>4</td>\n",
       "      <td>4</td>\n",
       "      <td>izu2as9</td>\n",
       "      <td>t3_zj2aeu</td>\n",
       "      <td>certify must see moment really shock core</td>\n",
       "      <td>r/ChatGPT</td>\n",
       "      <td>2</td>\n",
       "    </tr>\n",
       "  </tbody>\n",
       "</table>\n",
       "</div>"
      ],
      "text/plain": [
       "   Unnamed: 0.2  Unnamed: 0.1  Unnamed: 0 comment_id comment_parent_id  \\\n",
       "0             0             0           0    iztdxuh         t3_zj2aeu   \n",
       "1             1             1           1    iztn0q0         t3_zj2aeu   \n",
       "2             2             2           2    izudrph         t3_zj2aeu   \n",
       "3             3             3           3    iztfhtb         t3_zj2aeu   \n",
       "4             4             4           4    izu2as9         t3_zj2aeu   \n",
       "\n",
       "                                        comment_body  subreddit  cluster  \n",
       "0                          shock days need clickbait  r/ChatGPT        2  \n",
       "1  angry right waste time read post sub clickbait...  r/ChatGPT        0  \n",
       "2  chatgpt karma whore folks think stream think b...  r/ChatGPT        0  \n",
       "3                                           work ngl  r/ChatGPT        0  \n",
       "4          certify must see moment really shock core  r/ChatGPT        2  "
      ]
     },
     "execution_count": 57,
     "metadata": {},
     "output_type": "execute_result"
    }
   ],
   "source": [
    "cleaned_df = pd.read_csv(cwd + '\\processed\\clustered_comments.csv')\n",
    "cleaned_df.head()"
   ]
  },
  {
   "cell_type": "code",
   "execution_count": 58,
   "metadata": {},
   "outputs": [],
   "source": [
    "# Generating TF-IDF Vector for KMeans from the comment_body\n",
    "vectorizer = TfidfVectorizer(\n",
    "                                lowercase=True,\n",
    "                                ngram_range = (1,3),\n",
    "                                stop_words = \"english\"                              \n",
    "                            )\n",
    "\n",
    "tf_idf = vectorizer.fit_transform(cleaned_df.comment_body)"
   ]
  },
  {
   "cell_type": "code",
   "execution_count": 59,
   "metadata": {},
   "outputs": [
    {
     "data": {
      "text/plain": [
       "{'shock': 977079,\n",
       " 'days': 276309,\n",
       " 'need': 710908,\n",
       " 'clickbait': 192678,\n",
       " 'shock days': 977116,\n",
       " 'days need': 276677,\n",
       " 'need clickbait': 711728,\n",
       " 'shock days need': 977117,\n",
       " 'days need clickbait': 276678,\n",
       " 'angry': 51721,\n",
       " 'right': 924516,\n",
       " 'waste': 1196942,\n",
       " 'time': 1108265,\n",
       " 'read': 872873,\n",
       " 'post': 812235,\n",
       " 'sub': 1042884,\n",
       " 'title': 1114801,\n",
       " 'chatgpt': 168200,\n",
       " 'believe': 105568,\n",
       " 'machine': 643197,\n",
       " 'learn': 589165,\n",
       " 'model': 691012,\n",
       " 'able': 1568,\n",
       " 'trick': 1130828,\n",
       " 'think': 1096217,\n",
       " 'actually': 15118,\n",
       " 'bunch': 139074,\n",
       " 'meaningless': 672839,\n",
       " 'garbage': 430521,\n",
       " 'sick': 979338,\n",
       " 'tire': 1114580,\n",
       " 'ability': 564,\n",
       " 'generate': 433498,\n",
       " 'fake': 384714,\n",
       " 'content': 233759,\n",
       " 'design': 291191,\n",
       " 'people': 773276,\n",
       " 'click': 192368,\n",
       " 'fool': 410001,\n",
       " 'sure': 1053449,\n",
       " 'stand': 1018857,\n",
       " 'anymore': 57623,\n",
       " 'demand': 287064,\n",
       " 'moderators': 694644,\n",
       " 'action': 12879,\n",
       " 'creators': 258796,\n",
       " 'stop': 1028290,\n",
       " 'trickery': 1131222,\n",
       " 'hold': 490822,\n",
       " 'accountable': 10099}"
      ]
     },
     "execution_count": 59,
     "metadata": {},
     "output_type": "execute_result"
    }
   ],
   "source": [
    "#Sample of 50 words for the TFIDF dictionary\n",
    "from sklearn.pipeline import islice\n",
    "dict(islice(vectorizer.vocabulary_.items(), 0,50))"
   ]
  },
  {
   "cell_type": "code",
   "execution_count": 60,
   "metadata": {},
   "outputs": [
    {
     "data": {
      "text/plain": [
       "KMeans(max_iter=100, n_clusters=1, n_init=1, random_state=10)"
      ]
     },
     "execution_count": 60,
     "metadata": {},
     "output_type": "execute_result"
    },
    {
     "data": {
      "text/plain": [
       "KMeans(max_iter=100, n_clusters=2, n_init=1, random_state=10)"
      ]
     },
     "execution_count": 60,
     "metadata": {},
     "output_type": "execute_result"
    },
    {
     "data": {
      "text/plain": [
       "KMeans(max_iter=100, n_clusters=3, n_init=1, random_state=10)"
      ]
     },
     "execution_count": 60,
     "metadata": {},
     "output_type": "execute_result"
    },
    {
     "data": {
      "text/plain": [
       "KMeans(max_iter=100, n_clusters=4, n_init=1, random_state=10)"
      ]
     },
     "execution_count": 60,
     "metadata": {},
     "output_type": "execute_result"
    }
   ],
   "source": [
    "param = range(1,5)\n",
    "sse = []\n",
    "for k in param:\n",
    "    model = KMeans(n_clusters= k, init=\"k-means++\", random_state=10, max_iter=100, n_init=1)\n",
    "    model.fit(tf_idf)\n",
    "    sse.append(model.inertia_)"
   ]
  },
  {
   "cell_type": "code",
   "execution_count": 68,
   "metadata": {},
   "outputs": [
    {
     "data": {
      "text/plain": [
       "[<matplotlib.lines.Line2D at 0x22256a7f430>]"
      ]
     },
     "execution_count": 68,
     "metadata": {},
     "output_type": "execute_result"
    },
    {
     "data": {
      "text/plain": [
       "Text(0.5, 0, 'Number of Clusters')"
      ]
     },
     "execution_count": 68,
     "metadata": {},
     "output_type": "execute_result"
    },
    {
     "data": {
      "text/plain": [
       "Text(0, 0.5, 'Sum of Squared Error')"
      ]
     },
     "execution_count": 68,
     "metadata": {},
     "output_type": "execute_result"
    },
    {
     "data": {
      "text/plain": [
       "Text(0.5, 1.0, 'Elbow plot')"
      ]
     },
     "execution_count": 68,
     "metadata": {},
     "output_type": "execute_result"
    },
    {
     "data": {
      "image/png": "[encoded data removed]",
      "text/plain": [
       "<Figure size 432x288 with 1 Axes>"
      ]
     },
     "metadata": {
      "needs_background": "light"
     },
     "output_type": "display_data"
    }
   ],
   "source": [
    "#Visual for the Elbow method for determining optimal K value\n",
    "plt.plot(param, sse, marker = '.', markersize=10, linewidth = 1)\n",
    "plt.xlabel(\"Number of Clusters\", fontsize=12)\n",
    "plt.ylabel(\"Sum of Squared Error\", fontsize=12)\n",
    "plt.title(\"Elbow plot\", fontsize=18,pad=16, fontweight=\"bold\")"
   ]
  },
  {
   "cell_type": "code",
   "execution_count": 62,
   "metadata": {},
   "outputs": [
    {
     "name": "stdout",
     "output_type": "stream",
     "text": [
      "Cluster Centers\n"
     ]
    },
    {
     "name": "stderr",
     "output_type": "stream",
     "text": [
      "C:\\Users\\erice\\AppData\\Local\\Packages\\PythonSoftwareFoundation.Python.3.10_qbz5n2kfra8p0\\LocalCache\\local-packages\\Python310\\site-packages\\sklearn\\utils\\deprecation.py:87: FutureWarning: Function get_feature_names is deprecated; get_feature_names is deprecated in 1.0 and will be removed in 1.2. Please use get_feature_names_out instead.\n",
      "  warnings.warn(msg, category=FutureWarning)\n"
     ]
    },
    {
     "name": "stdout",
     "output_type": "stream",
     "text": [
      "Cluster 0\n",
      "delete\n",
      "delete delete\n",
      "delete delete delete\n",
      "zzs\n",
      "free plan\n",
      "free pick\n",
      "free pick pineapples\n",
      "free place\n",
      "free place sweet\n",
      "free plagiarism\n",
      "free plagiarism checker\n",
      "free plane\n",
      "free plan allow\n",
      "free phrase like\n",
      "free plane ticket\n",
      "free play\n",
      "free play chat\n",
      "free playground\n",
      "free pls\n",
      "free phrase likely\n",
      "Cluster 1\n",
      "write\n",
      "use\n",
      "chatgpt\n",
      "prompt\n",
      "essay\n",
      "use chatgpt\n",
      "code\n",
      "ask\n",
      "like\n",
      "work\n",
      "make\n",
      "ai\n",
      "gpt\n",
      "comment\n",
      "tool\n",
      "students\n",
      "chatgpt write\n",
      "help\n",
      "time\n",
      "bot\n",
      "Cluster 2\n",
      "work\n",
      "like\n",
      "make\n",
      "people\n",
      "lol\n",
      "think\n",
      "know\n",
      "thank\n",
      "say\n",
      "good\n",
      "try\n",
      "time\n",
      "mean\n",
      "need\n",
      "remove\n",
      "pay\n",
      "want\n",
      "right\n",
      "really\n",
      "use\n"
     ]
    }
   ],
   "source": [
    "#List 20 words whose TF_IDF vector representation is closest to respective centers\n",
    "optimal_k = 3\n",
    "print(\"Cluster Centers\")\n",
    "centers = model.cluster_centers_.argsort()[:, ::-1]\n",
    "center_words = vectorizer.get_feature_names()\n",
    "\n",
    "for i in range(optimal_k):\n",
    "    print(f\"Cluster {i}\")\n",
    "    for j in centers[i, :20]:\n",
    "        print(f\"{center_words[j]}\")"
   ]
  },
  {
   "cell_type": "code",
   "execution_count": 67,
   "metadata": {},
   "outputs": [
    {
     "data": {
      "text/plain": [
       "<AxesSubplot:>"
      ]
     },
     "execution_count": 67,
     "metadata": {},
     "output_type": "execute_result"
    },
    {
     "data": {
      "text/plain": [
       "Text(0.5, 0, 'Cluster Label')"
      ]
     },
     "execution_count": 67,
     "metadata": {},
     "output_type": "execute_result"
    },
    {
     "data": {
      "text/plain": [
       "Text(0, 0.5, 'Number of Comments')"
      ]
     },
     "execution_count": 67,
     "metadata": {},
     "output_type": "execute_result"
    },
    {
     "data": {
      "text/plain": [
       "Text(0.5, 1.0, 'Cluster Data Frequency')"
      ]
     },
     "execution_count": 67,
     "metadata": {},
     "output_type": "execute_result"
    },
    {
     "data": {
      "image/png": "[encoded data removed]",
      "text/plain": [
       "<Figure size 720x360 with 1 Axes>"
      ]
     },
     "metadata": {
      "needs_background": "light"
     },
     "output_type": "display_data"
    }
   ],
   "source": [
    "cleaned_df['cluster'].value_counts().sort_values(ascending = False).plot(kind='bar', figsize=(10,5), width=0.2)\n",
    "\n",
    "plt.xlabel(\"Cluster Label\", fontsize=14)\n",
    "plt.ylabel(\"Number of Comments\", fontsize=14)\n",
    "plt.title(\"Cluster Data Frequency\", fontsize=18,pad=16, fontweight=\"bold\" )\n",
    "\n",
    "plt.show()"
   ]
  },
  {
   "cell_type": "code",
   "execution_count": 64,
   "metadata": {},
   "outputs": [],
   "source": [
    "## Creating Vader object for Sentiment Analysis\n",
    "from vaderSentiment.vaderSentiment import SentimentIntensityAnalyzer\n",
    "from tqdm.notebook import tqdm\n",
    "\n",
    "analyser = SentimentIntensityAnalyzer()"
   ]
  },
  {
   "cell_type": "code",
   "execution_count": 101,
   "metadata": {},
   "outputs": [],
   "source": [
    "cleaned_df['vader_score'] = cleaned_df.comment_body.apply(lambda x: analyser.polarity_scores(x)['compound'])\n",
    "cleaned_df['sentiment'] = cleaned_df.vader_score.apply(lambda x: 'Positive' if x > 0.05 else ('Negative' if x<-0.05 else 'Neutral'))"
   ]
  },
  {
   "cell_type": "code",
   "execution_count": 100,
   "metadata": {},
   "outputs": [
    {
     "data": {
      "text/plain": [
       "<AxesSubplot:xlabel='cluster', ylabel='count'>"
      ]
     },
     "execution_count": 100,
     "metadata": {},
     "output_type": "execute_result"
    },
    {
     "data": {
      "text/plain": [
       "<AxesSubplot:xlabel='cluster', ylabel='count'>"
      ]
     },
     "execution_count": 100,
     "metadata": {},
     "output_type": "execute_result"
    },
    {
     "data": {
      "text/plain": [
       "<AxesSubplot:xlabel='cluster', ylabel='count'>"
      ]
     },
     "execution_count": 100,
     "metadata": {},
     "output_type": "execute_result"
    },
    {
     "data": {
      "text/plain": [
       "Text(0.5, 1.0, 'Positive Score')"
      ]
     },
     "execution_count": 100,
     "metadata": {},
     "output_type": "execute_result"
    },
    {
     "data": {
      "text/plain": [
       "Text(0.5, 1.0, 'Neutral Score')"
      ]
     },
     "execution_count": 100,
     "metadata": {},
     "output_type": "execute_result"
    },
    {
     "data": {
      "text/plain": [
       "Text(0.5, 1.0, 'Negative Score')"
      ]
     },
     "execution_count": 100,
     "metadata": {},
     "output_type": "execute_result"
    },
    {
     "data": {
      "text/plain": [
       "Text(0.5, 0, 'Clusters')"
      ]
     },
     "execution_count": 100,
     "metadata": {},
     "output_type": "execute_result"
    },
    {
     "data": {
      "text/plain": [
       "Text(0.5, 0, 'Clusters')"
      ]
     },
     "execution_count": 100,
     "metadata": {},
     "output_type": "execute_result"
    },
    {
     "data": {
      "text/plain": [
       "Text(0.5, 0, 'Clusters')"
      ]
     },
     "execution_count": 100,
     "metadata": {},
     "output_type": "execute_result"
    },
    {
     "data": {
      "image/png": "[encoded data removed]",
      "text/plain": [
       "<Figure size 864x288 with 3 Axes>"
      ]
     },
     "metadata": {
      "needs_background": "light"
     },
     "output_type": "display_data"
    }
   ],
   "source": [
    "fig, axs = plt.subplots(1, 3, figsize=(12, 4))\n",
    "cols = ['red' if x == 0 else 'green' if x == 1 else 'blue' for x in cleaned_df.cluster]\n",
    "sns.countplot(data=cleaned_df[cleaned_df['sentiment']=='Positive'], x='cluster', ax=axs[0], palette = ['orange','turquoise'])\n",
    "sns.countplot(data=cleaned_df[cleaned_df['sentiment']=='Neutral'], x='cluster', ax=axs[1],palette = ['orange','red','turquoise'] )\n",
    "sns.countplot(data =cleaned_df[cleaned_df['sentiment']=='Negative'], x='cluster', ax=axs[2],palette = ['orange','turquoise'])\n",
    "\n",
    "\n",
    "axs[0].set_title(\"Positive Score\", fontsize=12)\n",
    "axs[1].set_title(\"Neutral Score\", fontsize=12)\n",
    "axs[2].set_title(\"Negative Score\", fontsize=12)\n",
    "\n",
    "axs[0].set_xlabel(\"Clusters\", fontsize=12)\n",
    "axs[1].set_xlabel(\"Clusters\", fontsize=12)\n",
    "axs[2].set_xlabel(\"Clusters\", fontsize=12)\n",
    "\n",
    "\n",
    "plt.tight_layout()\n",
    "plt.show()\n"
   ]
  },
  {
   "cell_type": "code",
   "execution_count": 88,
   "metadata": {},
   "outputs": [
    {
     "ename": "TypeError",
     "evalue": "list indices must be integers or slices, not Int64Index",
     "output_type": "error",
     "traceback": [
      "\u001b[1;31m---------------------------------------------------------------------------\u001b[0m",
      "\u001b[1;31mTypeError\u001b[0m                                 Traceback (most recent call last)",
      "\u001b[1;32mc:\\Users\\erice\\projects\\ChatGPT-Text-Analysis\\visualization.ipynb Cell 17\u001b[0m in \u001b[0;36m<cell line: 1>\u001b[1;34m()\u001b[0m\n\u001b[1;32m----> <a href='vscode-notebook-cell:/c%3A/Users/erice/projects/ChatGPT-Text-Analysis/visualization.ipynb#X32sZmlsZQ%3D%3D?line=0'>1</a>\u001b[0m cols[cleaned_df[(cleaned_df[\u001b[39m'\u001b[39;49m\u001b[39msentiment\u001b[39;49m\u001b[39m'\u001b[39;49m]\u001b[39m==\u001b[39;49m\u001b[39m'\u001b[39;49m\u001b[39mPositive\u001b[39;49m\u001b[39m'\u001b[39;49m)]\u001b[39m.\u001b[39;49mindex]\n",
      "\u001b[1;31mTypeError\u001b[0m: list indices must be integers or slices, not Int64Index"
     ]
    }
   ],
   "source": [
    "\n",
    "cols[cleaned_df[(cleaned_df['sentiment']=='Positive')].index]"
   ]
  }
 ],
 "metadata": {
  "kernelspec": {
   "display_name": "Python 3",
   "language": "python",
   "name": "python3"
  },
  "language_info": {
   "codemirror_mode": {
    "name": "ipython",
    "version": 3
   },
   "file_extension": ".py",
   "mimetype": "text/x-python",
   "name": "python",
   "nbconvert_exporter": "python",
   "pygments_lexer": "ipython3",
   "version": "3.10.11"
  },
  "orig_nbformat": 4
 },
 "nbformat": 4,
 "nbformat_minor": 2
}
