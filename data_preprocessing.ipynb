{
 "cells": [
  {
   "cell_type": "code",
   "execution_count": 1,
   "metadata": {},
   "outputs": [],
   "source": [
    "\n",
    "#pip install nltk"
   ]
  },
  {
   "cell_type": "code",
   "execution_count": 20,
   "metadata": {},
   "outputs": [
    {
     "name": "stderr",
     "output_type": "stream",
     "text": [
      "[nltk_data] Downloading package wordnet to\n",
      "[nltk_data]     C:\\Users\\erice\\AppData\\Roaming\\nltk_data...\n",
      "[nltk_data]   Package wordnet is already up-to-date!\n"
     ]
    },
    {
     "data": {
      "text/plain": [
       "True"
      ]
     },
     "execution_count": 20,
     "metadata": {},
     "output_type": "execute_result"
    },
    {
     "name": "stderr",
     "output_type": "stream",
     "text": [
      "[nltk_data] Downloading package stopwords to\n",
      "[nltk_data]     C:\\Users\\erice\\AppData\\Roaming\\nltk_data...\n",
      "[nltk_data]   Package stopwords is already up-to-date!\n"
     ]
    },
    {
     "data": {
      "text/plain": [
       "True"
      ]
     },
     "execution_count": 20,
     "metadata": {},
     "output_type": "execute_result"
    }
   ],
   "source": [
    "import numpy as np # linear algebra\n",
    "import pandas as pd # data processing, CSV file I/O (e.g. pd.read_csv)\n",
    "import nltk\n",
    "nltk.download ('wordnet')\n",
    "from nltk import word_tokenize\n",
    "nltk.download('stopwords')\n",
    "from nltk.corpus import stopwords\n",
    "from nltk.stem import SnowballStemmer\n",
    "from nltk.stem import WordNetLemmatizer\n",
    "import matplotlib as mpl\n",
    "import matplotlib.pyplot as plt\n",
    "\n",
    "from sklearn.feature_extraction.text import TfidfVectorizer\n",
    "from sklearn.cluster import KMeans\n",
    "from sklearn.metrics import adjusted_rand_score\n",
    "from sklearn.decomposition import PCA\n",
    "\n",
    "import re\n"
   ]
  },
  {
   "cell_type": "code",
   "execution_count": 3,
   "metadata": {},
   "outputs": [
    {
     "data": {
      "text/html": [
       "<div>\n",
       "<style scoped>\n",
       "    .dataframe tbody tr th:only-of-type {\n",
       "        vertical-align: middle;\n",
       "    }\n",
       "\n",
       "    .dataframe tbody tr th {\n",
       "        vertical-align: top;\n",
       "    }\n",
       "\n",
       "    .dataframe thead th {\n",
       "        text-align: right;\n",
       "    }\n",
       "</style>\n",
       "<table border=\"1\" class=\"dataframe\">\n",
       "  <thead>\n",
       "    <tr style=\"text-align: right;\">\n",
       "      <th></th>\n",
       "      <th>Unnamed: 0</th>\n",
       "      <th>comment_id</th>\n",
       "      <th>comment_parent_id</th>\n",
       "      <th>comment_body</th>\n",
       "      <th>subreddit</th>\n",
       "    </tr>\n",
       "  </thead>\n",
       "  <tbody>\n",
       "    <tr>\n",
       "      <th>0</th>\n",
       "      <td>0</td>\n",
       "      <td>iztdxuh</td>\n",
       "      <td>t3_zj2aeu</td>\n",
       "      <td>I've been shocked for days now, I don't need c...</td>\n",
       "      <td>r/ChatGPT</td>\n",
       "    </tr>\n",
       "    <tr>\n",
       "      <th>1</th>\n",
       "      <td>1</td>\n",
       "      <td>iztn0q0</td>\n",
       "      <td>t3_zj2aeu</td>\n",
       "      <td>\\n\\nI am so angry right now. I just wasted my...</td>\n",
       "      <td>r/ChatGPT</td>\n",
       "    </tr>\n",
       "    <tr>\n",
       "      <th>2</th>\n",
       "      <td>2</td>\n",
       "      <td>izudrph</td>\n",
       "      <td>t3_zj2aeu</td>\n",
       "      <td>chatgpt karma whoring is here folks! just when...</td>\n",
       "      <td>r/ChatGPT</td>\n",
       "    </tr>\n",
       "    <tr>\n",
       "      <th>3</th>\n",
       "      <td>3</td>\n",
       "      <td>iztfhtb</td>\n",
       "      <td>t3_zj2aeu</td>\n",
       "      <td>Worked on me, ngl.</td>\n",
       "      <td>r/ChatGPT</td>\n",
       "    </tr>\n",
       "    <tr>\n",
       "      <th>4</th>\n",
       "      <td>4</td>\n",
       "      <td>izu2as9</td>\n",
       "      <td>t3_zj2aeu</td>\n",
       "      <td>Certified 10/10, must-see moment. It really di...</td>\n",
       "      <td>r/ChatGPT</td>\n",
       "    </tr>\n",
       "  </tbody>\n",
       "</table>\n",
       "</div>"
      ],
      "text/plain": [
       "  Unnamed: 0 comment_id comment_parent_id  \\\n",
       "0          0    iztdxuh         t3_zj2aeu   \n",
       "1          1    iztn0q0         t3_zj2aeu   \n",
       "2          2    izudrph         t3_zj2aeu   \n",
       "3          3    iztfhtb         t3_zj2aeu   \n",
       "4          4    izu2as9         t3_zj2aeu   \n",
       "\n",
       "                                        comment_body  subreddit  \n",
       "0  I've been shocked for days now, I don't need c...  r/ChatGPT  \n",
       "1   \\n\\nI am so angry right now. I just wasted my...  r/ChatGPT  \n",
       "2  chatgpt karma whoring is here folks! just when...  r/ChatGPT  \n",
       "3                                 Worked on me, ngl.  r/ChatGPT  \n",
       "4  Certified 10/10, must-see moment. It really di...  r/ChatGPT  "
      ]
     },
     "execution_count": 3,
     "metadata": {},
     "output_type": "execute_result"
    }
   ],
   "source": [
    "from IPython.core.interactiveshell import InteractiveShell\n",
    "InteractiveShell.ast_node_interactivity = \"all\"\n",
    "df = pd.read_csv(r'C:\\Users\\erice\\projects\\ChatGPT-Text-Analysis\\data\\chatgpt-reddit-comments.csv')\n",
    "df.shape\n",
    "df.head()"
   ]
  },
  {
   "cell_type": "code",
   "execution_count": 4,
   "metadata": {},
   "outputs": [
    {
     "data": {
      "text/plain": [
       "<AxesSubplot:>"
      ]
     },
     "execution_count": 4,
     "metadata": {},
     "output_type": "execute_result"
    },
    {
     "data": {
      "text/plain": [
       "Text(0.5, 0, 'SubReddit')"
      ]
     },
     "execution_count": 4,
     "metadata": {},
     "output_type": "execute_result"
    },
    {
     "data": {
      "text/plain": [
       "Text(0, 0.5, 'Number of Comments')"
      ]
     },
     "execution_count": 4,
     "metadata": {},
     "output_type": "execute_result"
    },
    {
     "data": {
      "text/plain": [
       "Text(0.5, 1.0, 'Data Frequency for SubReddit')"
      ]
     },
     "execution_count": 4,
     "metadata": {},
     "output_type": "execute_result"
    },
    {
     "data": {
      "image/png": "[encoded data removed]",
      "text/plain": [
       "<Figure size 720x360 with 1 Axes>"
      ]
     },
     "metadata": {
      "needs_background": "light"
     },
     "output_type": "display_data"
    }
   ],
   "source": [
    "df['subreddit'].value_counts().sort_values(ascending = False).plot(kind='bar', figsize=(10,5), width=0.2, color=\"#FF7B54\")\n",
    "\n",
    "plt.xlabel(\"SubReddit\", fontsize=16, fontweight=\"semibold\", labelpad=12)\n",
    "plt.ylabel(\"Number of Comments\", fontsize=14, fontweight=\"semibold\", labelpad=12)\n",
    "plt.title(\"Data Frequency for SubReddit\", fontsize=18,pad=16, fontweight=\"bold\")\n",
    "\n",
    "plt.show()"
   ]
  },
  {
   "cell_type": "code",
   "execution_count": 5,
   "metadata": {},
   "outputs": [
    {
     "data": {
      "text/plain": [
       "Unnamed: 0  comment_id  comment_parent_id  comment_body  subreddit\n",
       "False       False       False              False         False        52412\n",
       "dtype: int64"
      ]
     },
     "execution_count": 5,
     "metadata": {},
     "output_type": "execute_result"
    },
    {
     "data": {
      "text/html": [
       "<div>\n",
       "<style scoped>\n",
       "    .dataframe tbody tr th:only-of-type {\n",
       "        vertical-align: middle;\n",
       "    }\n",
       "\n",
       "    .dataframe tbody tr th {\n",
       "        vertical-align: top;\n",
       "    }\n",
       "\n",
       "    .dataframe thead th {\n",
       "        text-align: right;\n",
       "    }\n",
       "</style>\n",
       "<table border=\"1\" class=\"dataframe\">\n",
       "  <thead>\n",
       "    <tr style=\"text-align: right;\">\n",
       "      <th></th>\n",
       "      <th>Unnamed: 0</th>\n",
       "      <th>comment_id</th>\n",
       "      <th>comment_parent_id</th>\n",
       "      <th>comment_body</th>\n",
       "      <th>subreddit</th>\n",
       "    </tr>\n",
       "  </thead>\n",
       "  <tbody>\n",
       "    <tr>\n",
       "      <th>0</th>\n",
       "      <td>0</td>\n",
       "      <td>iztdxuh</td>\n",
       "      <td>t3_zj2aeu</td>\n",
       "      <td>I've been shocked for days now, I don't need c...</td>\n",
       "      <td>r/ChatGPT</td>\n",
       "    </tr>\n",
       "    <tr>\n",
       "      <th>1</th>\n",
       "      <td>1</td>\n",
       "      <td>iztn0q0</td>\n",
       "      <td>t3_zj2aeu</td>\n",
       "      <td>\\n\\nI am so angry right now. I just wasted my...</td>\n",
       "      <td>r/ChatGPT</td>\n",
       "    </tr>\n",
       "    <tr>\n",
       "      <th>2</th>\n",
       "      <td>2</td>\n",
       "      <td>izudrph</td>\n",
       "      <td>t3_zj2aeu</td>\n",
       "      <td>chatgpt karma whoring is here folks! just when...</td>\n",
       "      <td>r/ChatGPT</td>\n",
       "    </tr>\n",
       "    <tr>\n",
       "      <th>3</th>\n",
       "      <td>3</td>\n",
       "      <td>iztfhtb</td>\n",
       "      <td>t3_zj2aeu</td>\n",
       "      <td>Worked on me, ngl.</td>\n",
       "      <td>r/ChatGPT</td>\n",
       "    </tr>\n",
       "    <tr>\n",
       "      <th>4</th>\n",
       "      <td>4</td>\n",
       "      <td>izu2as9</td>\n",
       "      <td>t3_zj2aeu</td>\n",
       "      <td>Certified 10/10, must-see moment. It really di...</td>\n",
       "      <td>r/ChatGPT</td>\n",
       "    </tr>\n",
       "  </tbody>\n",
       "</table>\n",
       "</div>"
      ],
      "text/plain": [
       "  Unnamed: 0 comment_id comment_parent_id  \\\n",
       "0          0    iztdxuh         t3_zj2aeu   \n",
       "1          1    iztn0q0         t3_zj2aeu   \n",
       "2          2    izudrph         t3_zj2aeu   \n",
       "3          3    iztfhtb         t3_zj2aeu   \n",
       "4          4    izu2as9         t3_zj2aeu   \n",
       "\n",
       "                                        comment_body  subreddit  \n",
       "0  I've been shocked for days now, I don't need c...  r/ChatGPT  \n",
       "1   \\n\\nI am so angry right now. I just wasted my...  r/ChatGPT  \n",
       "2  chatgpt karma whoring is here folks! just when...  r/ChatGPT  \n",
       "3                                 Worked on me, ngl.  r/ChatGPT  \n",
       "4  Certified 10/10, must-see moment. It really di...  r/ChatGPT  "
      ]
     },
     "execution_count": 5,
     "metadata": {},
     "output_type": "execute_result"
    }
   ],
   "source": [
    "#Check for/Remove NULL values\n",
    "df.dropna(inplace=True)\n",
    "df.isnull().value_counts()\n",
    "df.head()"
   ]
  },
  {
   "cell_type": "code",
   "execution_count": 16,
   "metadata": {},
   "outputs": [],
   "source": [
    "stop_words = set(stopwords.words('english'))\n",
    "#stemmer = SnowballStemmer('english')\n",
    "lemmatizer = WordNetLemmatizer()\n",
    "def clean_comments(comment):\n",
    "    #Normalize text\n",
    "    comment = comment.lower()\n",
    "\n",
    "    #Remove special characters/URLS and '@' tags and non numbers/letters\n",
    "    comment = re.sub(r\"(@\\[A-Za-z0-9]+)|([^A-Za-z])|(\\w+:\\/\\/\\S+)|^rt|http.+?\", \" \", comment)\n",
    "\n",
    "    #Remove linebreaks\n",
    "    comment = re.sub(r\"\\n\", \" \",comment)\n",
    "    \n",
    "    #Remove non-words/single characters\n",
    "    comment = re.sub(r\"(^| ).(( ).)*( |$)\", \" \", comment)\n",
    "\n",
    "    #Remove stopwords and lemmatize\n",
    "    word_tokens = word_tokenize(comment)\n",
    "    clean_token_list = []\n",
    "    for word_token in word_tokens:\n",
    "        if word_token not in stop_words:\n",
    "            clean_token_list.append(lemmatizer.lemmatize(word_token))\n",
    "    \n",
    "    clean_comment = \" \".join(clean_token_list)\n",
    "    \n",
    "    return clean_comment\n"
   ]
  },
  {
   "cell_type": "code",
   "execution_count": 17,
   "metadata": {},
   "outputs": [
    {
     "data": {
      "text/plain": [
       "'know referring tos section seem noteworthy'"
      ]
     },
     "execution_count": 17,
     "metadata": {},
     "output_type": "execute_result"
    }
   ],
   "source": [
    "\n",
    "clean_comments(df.comment_body[52414])"
   ]
  },
  {
   "cell_type": "code",
   "execution_count": 13,
   "metadata": {},
   "outputs": [
    {
     "data": {
      "text/plain": [
       "\"Don't know what they're referring to in the TOS but these sections seem noteworthy?\\n\\n* 2(c)\\n* 3(c)(d)\\n* 5(a)(c)\\n* 6(a)\\n* 8\\n* 9(i)(k)\""
      ]
     },
     "execution_count": 13,
     "metadata": {},
     "output_type": "execute_result"
    }
   ],
   "source": [
    "df.comment_body[52414]"
   ]
  },
  {
   "cell_type": "code",
   "execution_count": 23,
   "metadata": {},
   "outputs": [],
   "source": [
    "cleaned_df = df.copy()\n",
    "cleaned_df['comment_body'] = df.comment_body.apply(lambda x: clean_comments(x))"
   ]
  },
  {
   "cell_type": "code",
   "execution_count": 24,
   "metadata": {},
   "outputs": [],
   "source": [
    "# Generating TF-IDF Vector for KMeans from the comment_body\n",
    "vectorizer = TfidfVectorizer(\n",
    "                                lowercase=True,\n",
    "                                ngram_range = (1,3),\n",
    "                                stop_words = \"english\"                                \n",
    "                            )\n",
    "\n",
    "tf_idf = vectorizer.fit_transform(cleaned_df.comment_body)"
   ]
  },
  {
   "cell_type": "code",
   "execution_count": 31,
   "metadata": {},
   "outputs": [
    {
     "data": {
      "text/html": [
       "<div>\n",
       "<style scoped>\n",
       "    .dataframe tbody tr th:only-of-type {\n",
       "        vertical-align: middle;\n",
       "    }\n",
       "\n",
       "    .dataframe tbody tr th {\n",
       "        vertical-align: top;\n",
       "    }\n",
       "\n",
       "    .dataframe thead th {\n",
       "        text-align: right;\n",
       "    }\n",
       "</style>\n",
       "<table border=\"1\" class=\"dataframe\">\n",
       "  <thead>\n",
       "    <tr style=\"text-align: right;\">\n",
       "      <th></th>\n",
       "      <th>Unnamed: 0</th>\n",
       "      <th>comment_id</th>\n",
       "      <th>comment_parent_id</th>\n",
       "      <th>comment_body</th>\n",
       "      <th>subreddit</th>\n",
       "    </tr>\n",
       "  </thead>\n",
       "  <tbody>\n",
       "    <tr>\n",
       "      <th>0</th>\n",
       "      <td>0</td>\n",
       "      <td>iztdxuh</td>\n",
       "      <td>t3_zj2aeu</td>\n",
       "      <td>shocked day need clickbait</td>\n",
       "      <td>r/ChatGPT</td>\n",
       "    </tr>\n",
       "    <tr>\n",
       "      <th>1</th>\n",
       "      <td>1</td>\n",
       "      <td>iztn0q0</td>\n",
       "      <td>t3_zj2aeu</td>\n",
       "      <td>angry right wasted time reading post sub click...</td>\n",
       "      <td>r/ChatGPT</td>\n",
       "    </tr>\n",
       "    <tr>\n",
       "      <th>2</th>\n",
       "      <td>2</td>\n",
       "      <td>izudrph</td>\n",
       "      <td>t3_zj2aeu</td>\n",
       "      <td>chatgpt karma whoring folk think stream though...</td>\n",
       "      <td>r/ChatGPT</td>\n",
       "    </tr>\n",
       "    <tr>\n",
       "      <th>3</th>\n",
       "      <td>3</td>\n",
       "      <td>iztfhtb</td>\n",
       "      <td>t3_zj2aeu</td>\n",
       "      <td>worked ngl</td>\n",
       "      <td>r/ChatGPT</td>\n",
       "    </tr>\n",
       "    <tr>\n",
       "      <th>4</th>\n",
       "      <td>4</td>\n",
       "      <td>izu2as9</td>\n",
       "      <td>t3_zj2aeu</td>\n",
       "      <td>certified must see moment really shock core</td>\n",
       "      <td>r/ChatGPT</td>\n",
       "    </tr>\n",
       "    <tr>\n",
       "      <th>...</th>\n",
       "      <td>...</td>\n",
       "      <td>...</td>\n",
       "      <td>...</td>\n",
       "      <td>...</td>\n",
       "      <td>...</td>\n",
       "    </tr>\n",
       "    <tr>\n",
       "      <th>52410</th>\n",
       "      <td>16667</td>\n",
       "      <td>j4lbiix</td>\n",
       "      <td>t1_j4kgcac</td>\n",
       "      <td>scary thing future text trustworthy either cas...</td>\n",
       "      <td>r/technology</td>\n",
       "    </tr>\n",
       "    <tr>\n",
       "      <th>52411</th>\n",
       "      <td>16668</td>\n",
       "      <td>j5m0v6m</td>\n",
       "      <td>t3_10jmvpj</td>\n",
       "      <td>read thank later</td>\n",
       "      <td>r/technology</td>\n",
       "    </tr>\n",
       "    <tr>\n",
       "      <th>52412</th>\n",
       "      <td>16669</td>\n",
       "      <td>j5m6aj0</td>\n",
       "      <td>t1_j5m0v6m</td>\n",
       "      <td>missing</td>\n",
       "      <td>r/technology</td>\n",
       "    </tr>\n",
       "    <tr>\n",
       "      <th>52413</th>\n",
       "      <td>16670</td>\n",
       "      <td>j5nylax</td>\n",
       "      <td>t1_j5m0v6m</td>\n",
       "      <td>chatgtp think tos</td>\n",
       "      <td>r/technology</td>\n",
       "    </tr>\n",
       "    <tr>\n",
       "      <th>52414</th>\n",
       "      <td>16671</td>\n",
       "      <td>j5mwpdr</td>\n",
       "      <td>t1_j5m6aj0</td>\n",
       "      <td>know referring tos section seem noteworthy</td>\n",
       "      <td>r/technology</td>\n",
       "    </tr>\n",
       "  </tbody>\n",
       "</table>\n",
       "<p>52412 rows × 5 columns</p>\n",
       "</div>"
      ],
      "text/plain": [
       "      Unnamed: 0 comment_id comment_parent_id  \\\n",
       "0              0    iztdxuh         t3_zj2aeu   \n",
       "1              1    iztn0q0         t3_zj2aeu   \n",
       "2              2    izudrph         t3_zj2aeu   \n",
       "3              3    iztfhtb         t3_zj2aeu   \n",
       "4              4    izu2as9         t3_zj2aeu   \n",
       "...          ...        ...               ...   \n",
       "52410      16667    j4lbiix        t1_j4kgcac   \n",
       "52411      16668    j5m0v6m        t3_10jmvpj   \n",
       "52412      16669    j5m6aj0        t1_j5m0v6m   \n",
       "52413      16670    j5nylax        t1_j5m0v6m   \n",
       "52414      16671    j5mwpdr        t1_j5m6aj0   \n",
       "\n",
       "                                            comment_body     subreddit  \n",
       "0                             shocked day need clickbait     r/ChatGPT  \n",
       "1      angry right wasted time reading post sub click...     r/ChatGPT  \n",
       "2      chatgpt karma whoring folk think stream though...     r/ChatGPT  \n",
       "3                                             worked ngl     r/ChatGPT  \n",
       "4            certified must see moment really shock core     r/ChatGPT  \n",
       "...                                                  ...           ...  \n",
       "52410  scary thing future text trustworthy either cas...  r/technology  \n",
       "52411                                   read thank later  r/technology  \n",
       "52412                                            missing  r/technology  \n",
       "52413                                  chatgtp think tos  r/technology  \n",
       "52414         know referring tos section seem noteworthy  r/technology  \n",
       "\n",
       "[52412 rows x 5 columns]"
      ]
     },
     "execution_count": 31,
     "metadata": {},
     "output_type": "execute_result"
    }
   ],
   "source": [
    "from IPython.display import display\n",
    "cleaned_df"
   ]
  }
 ],
 "metadata": {
  "kernelspec": {
   "display_name": "Python 3",
   "language": "python",
   "name": "python3"
  },
  "language_info": {
   "codemirror_mode": {
    "name": "ipython",
    "version": 3
   },
   "file_extension": ".py",
   "mimetype": "text/x-python",
   "name": "python",
   "nbconvert_exporter": "python",
   "pygments_lexer": "ipython3",
   "version": "3.10.11"
  },
  "orig_nbformat": 4
 },
 "nbformat": 4,
 "nbformat_minor": 2
}
